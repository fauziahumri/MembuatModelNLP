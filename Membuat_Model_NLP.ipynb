{
  "nbformat": 4,
  "nbformat_minor": 0,
  "metadata": {
    "colab": {
      "provenance": [],
      "collapsed_sections": []
    },
    "kernelspec": {
      "name": "python3",
      "display_name": "Python 3"
    },
    "language_info": {
      "name": "python"
    }
  },
  "cells": [
    {
      "cell_type": "code",
      "execution_count": 1,
      "metadata": {
        "id": "fh6-EjTNKSHm"
      },
      "outputs": [],
      "source": [
        "import tensorflow as tf\n",
        "import pandas as pd\n",
        "import os\n",
        "from sklearn import preprocessing\n",
        "from sklearn.model_selection import train_test_split\n",
        "from keras.models import Sequential\n",
        "from keras.layers import Dense\n",
        "df = pd.read_csv('indonesian-names.csv')\n"
      ]
    },
    {
      "cell_type": "code",
      "source": [
        "df.head()"
      ],
      "metadata": {
        "colab": {
          "base_uri": "https://localhost:8080/",
          "height": 206
        },
        "id": "4crbW_hmPC9G",
        "outputId": "0c4427b4-daa2-462c-b1ba-c45ac00a6bc6"
      },
      "execution_count": 2,
      "outputs": [
        {
          "output_type": "execute_result",
          "data": {
            "text/plain": [
              "                          name gender\n",
              "0              hafizhan shidqi      m\n",
              "1                gandhi wibowo      m\n",
              "2  aldio mahendra purwandrarto      m\n",
              "3                  benny putra      m\n",
              "4         vicky vernando dasta      m"
            ],
            "text/html": [
              "\n",
              "  <div id=\"df-9b601c10-3d46-4bcc-bb0d-ab0f7c45889f\">\n",
              "    <div class=\"colab-df-container\">\n",
              "      <div>\n",
              "<style scoped>\n",
              "    .dataframe tbody tr th:only-of-type {\n",
              "        vertical-align: middle;\n",
              "    }\n",
              "\n",
              "    .dataframe tbody tr th {\n",
              "        vertical-align: top;\n",
              "    }\n",
              "\n",
              "    .dataframe thead th {\n",
              "        text-align: right;\n",
              "    }\n",
              "</style>\n",
              "<table border=\"1\" class=\"dataframe\">\n",
              "  <thead>\n",
              "    <tr style=\"text-align: right;\">\n",
              "      <th></th>\n",
              "      <th>name</th>\n",
              "      <th>gender</th>\n",
              "    </tr>\n",
              "  </thead>\n",
              "  <tbody>\n",
              "    <tr>\n",
              "      <th>0</th>\n",
              "      <td>hafizhan shidqi</td>\n",
              "      <td>m</td>\n",
              "    </tr>\n",
              "    <tr>\n",
              "      <th>1</th>\n",
              "      <td>gandhi wibowo</td>\n",
              "      <td>m</td>\n",
              "    </tr>\n",
              "    <tr>\n",
              "      <th>2</th>\n",
              "      <td>aldio mahendra purwandrarto</td>\n",
              "      <td>m</td>\n",
              "    </tr>\n",
              "    <tr>\n",
              "      <th>3</th>\n",
              "      <td>benny putra</td>\n",
              "      <td>m</td>\n",
              "    </tr>\n",
              "    <tr>\n",
              "      <th>4</th>\n",
              "      <td>vicky vernando dasta</td>\n",
              "      <td>m</td>\n",
              "    </tr>\n",
              "  </tbody>\n",
              "</table>\n",
              "</div>\n",
              "      <button class=\"colab-df-convert\" onclick=\"convertToInteractive('df-9b601c10-3d46-4bcc-bb0d-ab0f7c45889f')\"\n",
              "              title=\"Convert this dataframe to an interactive table.\"\n",
              "              style=\"display:none;\">\n",
              "        \n",
              "  <svg xmlns=\"http://www.w3.org/2000/svg\" height=\"24px\"viewBox=\"0 0 24 24\"\n",
              "       width=\"24px\">\n",
              "    <path d=\"M0 0h24v24H0V0z\" fill=\"none\"/>\n",
              "    <path d=\"M18.56 5.44l.94 2.06.94-2.06 2.06-.94-2.06-.94-.94-2.06-.94 2.06-2.06.94zm-11 1L8.5 8.5l.94-2.06 2.06-.94-2.06-.94L8.5 2.5l-.94 2.06-2.06.94zm10 10l.94 2.06.94-2.06 2.06-.94-2.06-.94-.94-2.06-.94 2.06-2.06.94z\"/><path d=\"M17.41 7.96l-1.37-1.37c-.4-.4-.92-.59-1.43-.59-.52 0-1.04.2-1.43.59L10.3 9.45l-7.72 7.72c-.78.78-.78 2.05 0 2.83L4 21.41c.39.39.9.59 1.41.59.51 0 1.02-.2 1.41-.59l7.78-7.78 2.81-2.81c.8-.78.8-2.07 0-2.86zM5.41 20L4 18.59l7.72-7.72 1.47 1.35L5.41 20z\"/>\n",
              "  </svg>\n",
              "      </button>\n",
              "      \n",
              "  <style>\n",
              "    .colab-df-container {\n",
              "      display:flex;\n",
              "      flex-wrap:wrap;\n",
              "      gap: 12px;\n",
              "    }\n",
              "\n",
              "    .colab-df-convert {\n",
              "      background-color: #E8F0FE;\n",
              "      border: none;\n",
              "      border-radius: 50%;\n",
              "      cursor: pointer;\n",
              "      display: none;\n",
              "      fill: #1967D2;\n",
              "      height: 32px;\n",
              "      padding: 0 0 0 0;\n",
              "      width: 32px;\n",
              "    }\n",
              "\n",
              "    .colab-df-convert:hover {\n",
              "      background-color: #E2EBFA;\n",
              "      box-shadow: 0px 1px 2px rgba(60, 64, 67, 0.3), 0px 1px 3px 1px rgba(60, 64, 67, 0.15);\n",
              "      fill: #174EA6;\n",
              "    }\n",
              "\n",
              "    [theme=dark] .colab-df-convert {\n",
              "      background-color: #3B4455;\n",
              "      fill: #D2E3FC;\n",
              "    }\n",
              "\n",
              "    [theme=dark] .colab-df-convert:hover {\n",
              "      background-color: #434B5C;\n",
              "      box-shadow: 0px 1px 3px 1px rgba(0, 0, 0, 0.15);\n",
              "      filter: drop-shadow(0px 1px 2px rgba(0, 0, 0, 0.3));\n",
              "      fill: #FFFFFF;\n",
              "    }\n",
              "  </style>\n",
              "\n",
              "      <script>\n",
              "        const buttonEl =\n",
              "          document.querySelector('#df-9b601c10-3d46-4bcc-bb0d-ab0f7c45889f button.colab-df-convert');\n",
              "        buttonEl.style.display =\n",
              "          google.colab.kernel.accessAllowed ? 'block' : 'none';\n",
              "\n",
              "        async function convertToInteractive(key) {\n",
              "          const element = document.querySelector('#df-9b601c10-3d46-4bcc-bb0d-ab0f7c45889f');\n",
              "          const dataTable =\n",
              "            await google.colab.kernel.invokeFunction('convertToInteractive',\n",
              "                                                     [key], {});\n",
              "          if (!dataTable) return;\n",
              "\n",
              "          const docLinkHtml = 'Like what you see? Visit the ' +\n",
              "            '<a target=\"_blank\" href=https://colab.research.google.com/notebooks/data_table.ipynb>data table notebook</a>'\n",
              "            + ' to learn more about interactive tables.';\n",
              "          element.innerHTML = '';\n",
              "          dataTable['output_type'] = 'display_data';\n",
              "          await google.colab.output.renderOutput(dataTable, element);\n",
              "          const docLink = document.createElement('div');\n",
              "          docLink.innerHTML = docLinkHtml;\n",
              "          element.appendChild(docLink);\n",
              "        }\n",
              "      </script>\n",
              "    </div>\n",
              "  </div>\n",
              "  "
            ]
          },
          "metadata": {},
          "execution_count": 2
        }
      ]
    },
    {
      "cell_type": "code",
      "source": [
        "category = pd.get_dummies(df.gender)\n",
        "df_baru = pd.concat([df, category], axis=1)\n",
        "df_baru = df_baru.drop(columns='gender')\n",
        "df_baru"
      ],
      "metadata": {
        "colab": {
          "base_uri": "https://localhost:8080/",
          "height": 424
        },
        "id": "yl9pjkYLY9nm",
        "outputId": "5b7cf30a-b5e9-478d-ac5d-6a0a8dab0ebb"
      },
      "execution_count": 3,
      "outputs": [
        {
          "output_type": "execute_result",
          "data": {
            "text/plain": [
              "                             name  f  m\n",
              "0                 hafizhan shidqi  0  1\n",
              "1                   gandhi wibowo  0  1\n",
              "2     aldio mahendra purwandrarto  0  1\n",
              "3                     benny putra  0  1\n",
              "4            vicky vernando dasta  0  1\n",
              "...                           ... .. ..\n",
              "1955                      hadimah  1  0\n",
              "1956          aprillia rahma wati  1  0\n",
              "1957        muhamad khoirunisa. m  0  1\n",
              "1958                      sukandi  0  1\n",
              "1959                          eem  1  0\n",
              "\n",
              "[1960 rows x 3 columns]"
            ],
            "text/html": [
              "\n",
              "  <div id=\"df-475a9d79-350e-4249-bfef-9e51dd8afba2\">\n",
              "    <div class=\"colab-df-container\">\n",
              "      <div>\n",
              "<style scoped>\n",
              "    .dataframe tbody tr th:only-of-type {\n",
              "        vertical-align: middle;\n",
              "    }\n",
              "\n",
              "    .dataframe tbody tr th {\n",
              "        vertical-align: top;\n",
              "    }\n",
              "\n",
              "    .dataframe thead th {\n",
              "        text-align: right;\n",
              "    }\n",
              "</style>\n",
              "<table border=\"1\" class=\"dataframe\">\n",
              "  <thead>\n",
              "    <tr style=\"text-align: right;\">\n",
              "      <th></th>\n",
              "      <th>name</th>\n",
              "      <th>f</th>\n",
              "      <th>m</th>\n",
              "    </tr>\n",
              "  </thead>\n",
              "  <tbody>\n",
              "    <tr>\n",
              "      <th>0</th>\n",
              "      <td>hafizhan shidqi</td>\n",
              "      <td>0</td>\n",
              "      <td>1</td>\n",
              "    </tr>\n",
              "    <tr>\n",
              "      <th>1</th>\n",
              "      <td>gandhi wibowo</td>\n",
              "      <td>0</td>\n",
              "      <td>1</td>\n",
              "    </tr>\n",
              "    <tr>\n",
              "      <th>2</th>\n",
              "      <td>aldio mahendra purwandrarto</td>\n",
              "      <td>0</td>\n",
              "      <td>1</td>\n",
              "    </tr>\n",
              "    <tr>\n",
              "      <th>3</th>\n",
              "      <td>benny putra</td>\n",
              "      <td>0</td>\n",
              "      <td>1</td>\n",
              "    </tr>\n",
              "    <tr>\n",
              "      <th>4</th>\n",
              "      <td>vicky vernando dasta</td>\n",
              "      <td>0</td>\n",
              "      <td>1</td>\n",
              "    </tr>\n",
              "    <tr>\n",
              "      <th>...</th>\n",
              "      <td>...</td>\n",
              "      <td>...</td>\n",
              "      <td>...</td>\n",
              "    </tr>\n",
              "    <tr>\n",
              "      <th>1955</th>\n",
              "      <td>hadimah</td>\n",
              "      <td>1</td>\n",
              "      <td>0</td>\n",
              "    </tr>\n",
              "    <tr>\n",
              "      <th>1956</th>\n",
              "      <td>aprillia rahma wati</td>\n",
              "      <td>1</td>\n",
              "      <td>0</td>\n",
              "    </tr>\n",
              "    <tr>\n",
              "      <th>1957</th>\n",
              "      <td>muhamad khoirunisa. m</td>\n",
              "      <td>0</td>\n",
              "      <td>1</td>\n",
              "    </tr>\n",
              "    <tr>\n",
              "      <th>1958</th>\n",
              "      <td>sukandi</td>\n",
              "      <td>0</td>\n",
              "      <td>1</td>\n",
              "    </tr>\n",
              "    <tr>\n",
              "      <th>1959</th>\n",
              "      <td>eem</td>\n",
              "      <td>1</td>\n",
              "      <td>0</td>\n",
              "    </tr>\n",
              "  </tbody>\n",
              "</table>\n",
              "<p>1960 rows × 3 columns</p>\n",
              "</div>\n",
              "      <button class=\"colab-df-convert\" onclick=\"convertToInteractive('df-475a9d79-350e-4249-bfef-9e51dd8afba2')\"\n",
              "              title=\"Convert this dataframe to an interactive table.\"\n",
              "              style=\"display:none;\">\n",
              "        \n",
              "  <svg xmlns=\"http://www.w3.org/2000/svg\" height=\"24px\"viewBox=\"0 0 24 24\"\n",
              "       width=\"24px\">\n",
              "    <path d=\"M0 0h24v24H0V0z\" fill=\"none\"/>\n",
              "    <path d=\"M18.56 5.44l.94 2.06.94-2.06 2.06-.94-2.06-.94-.94-2.06-.94 2.06-2.06.94zm-11 1L8.5 8.5l.94-2.06 2.06-.94-2.06-.94L8.5 2.5l-.94 2.06-2.06.94zm10 10l.94 2.06.94-2.06 2.06-.94-2.06-.94-.94-2.06-.94 2.06-2.06.94z\"/><path d=\"M17.41 7.96l-1.37-1.37c-.4-.4-.92-.59-1.43-.59-.52 0-1.04.2-1.43.59L10.3 9.45l-7.72 7.72c-.78.78-.78 2.05 0 2.83L4 21.41c.39.39.9.59 1.41.59.51 0 1.02-.2 1.41-.59l7.78-7.78 2.81-2.81c.8-.78.8-2.07 0-2.86zM5.41 20L4 18.59l7.72-7.72 1.47 1.35L5.41 20z\"/>\n",
              "  </svg>\n",
              "      </button>\n",
              "      \n",
              "  <style>\n",
              "    .colab-df-container {\n",
              "      display:flex;\n",
              "      flex-wrap:wrap;\n",
              "      gap: 12px;\n",
              "    }\n",
              "\n",
              "    .colab-df-convert {\n",
              "      background-color: #E8F0FE;\n",
              "      border: none;\n",
              "      border-radius: 50%;\n",
              "      cursor: pointer;\n",
              "      display: none;\n",
              "      fill: #1967D2;\n",
              "      height: 32px;\n",
              "      padding: 0 0 0 0;\n",
              "      width: 32px;\n",
              "    }\n",
              "\n",
              "    .colab-df-convert:hover {\n",
              "      background-color: #E2EBFA;\n",
              "      box-shadow: 0px 1px 2px rgba(60, 64, 67, 0.3), 0px 1px 3px 1px rgba(60, 64, 67, 0.15);\n",
              "      fill: #174EA6;\n",
              "    }\n",
              "\n",
              "    [theme=dark] .colab-df-convert {\n",
              "      background-color: #3B4455;\n",
              "      fill: #D2E3FC;\n",
              "    }\n",
              "\n",
              "    [theme=dark] .colab-df-convert:hover {\n",
              "      background-color: #434B5C;\n",
              "      box-shadow: 0px 1px 3px 1px rgba(0, 0, 0, 0.15);\n",
              "      filter: drop-shadow(0px 1px 2px rgba(0, 0, 0, 0.3));\n",
              "      fill: #FFFFFF;\n",
              "    }\n",
              "  </style>\n",
              "\n",
              "      <script>\n",
              "        const buttonEl =\n",
              "          document.querySelector('#df-475a9d79-350e-4249-bfef-9e51dd8afba2 button.colab-df-convert');\n",
              "        buttonEl.style.display =\n",
              "          google.colab.kernel.accessAllowed ? 'block' : 'none';\n",
              "\n",
              "        async function convertToInteractive(key) {\n",
              "          const element = document.querySelector('#df-475a9d79-350e-4249-bfef-9e51dd8afba2');\n",
              "          const dataTable =\n",
              "            await google.colab.kernel.invokeFunction('convertToInteractive',\n",
              "                                                     [key], {});\n",
              "          if (!dataTable) return;\n",
              "\n",
              "          const docLinkHtml = 'Like what you see? Visit the ' +\n",
              "            '<a target=\"_blank\" href=https://colab.research.google.com/notebooks/data_table.ipynb>data table notebook</a>'\n",
              "            + ' to learn more about interactive tables.';\n",
              "          element.innerHTML = '';\n",
              "          dataTable['output_type'] = 'display_data';\n",
              "          await google.colab.output.renderOutput(dataTable, element);\n",
              "          const docLink = document.createElement('div');\n",
              "          docLink.innerHTML = docLinkHtml;\n",
              "          element.appendChild(docLink);\n",
              "        }\n",
              "      </script>\n",
              "    </div>\n",
              "  </div>\n",
              "  "
            ]
          },
          "metadata": {},
          "execution_count": 3
        }
      ]
    },
    {
      "cell_type": "code",
      "source": [
        "name = df_baru['name'].values\n",
        "label = df_baru[['f', 'm']].values"
      ],
      "metadata": {
        "id": "vYIrnxhrjhsF"
      },
      "execution_count": 4,
      "outputs": []
    },
    {
      "cell_type": "code",
      "source": [
        "# pembagian untuk train dam data testing\n",
        "from sklearn.model_selection import train_test_split\n",
        "name_latih, name_test, label_latih, label_test = train_test_split(name, label, test_size=0.2)"
      ],
      "metadata": {
        "id": "X1bCqCoslRRx"
      },
      "execution_count": 5,
      "outputs": []
    },
    {
      "cell_type": "code",
      "source": [
        "# tokenisasi\n",
        "from tensorflow.keras.preprocessing.text import Tokenizer\n",
        "from tensorflow.keras.preprocessing.sequence import pad_sequences\n",
        "\n",
        "tokenizer = Tokenizer(num_words=1000, oov_token='x')\n",
        "tokenizer.fit_on_texts(name_latih) \n",
        "tokenizer.fit_on_texts(name_test)\n",
        " \n",
        "sekuens_latih = tokenizer.texts_to_sequences(name_latih)\n",
        "sekuens_test = tokenizer.texts_to_sequences(name_test)\n",
        " \n",
        "padded_latih = pad_sequences(sekuens_latih) \n",
        "padded_test = pad_sequences(sekuens_test)"
      ],
      "metadata": {
        "id": "WoNTt8Hal375"
      },
      "execution_count": 6,
      "outputs": []
    },
    {
      "cell_type": "code",
      "source": [
        "model = tf.keras.Sequential([\n",
        "    tf.keras.layers.Embedding(input_dim=5000, output_dim=16),\n",
        "    tf.keras.layers.LSTM(64),\n",
        "    tf.keras.layers.Dense(128, activation='relu'),\n",
        "    tf.keras.layers.Dense(64, activation='relu'),\n",
        "    tf.keras.layers.Dense(2, activation='softmax')\n",
        "])\n",
        "\n",
        "model.summary()"
      ],
      "metadata": {
        "id": "6_vBRk1unp5h",
        "colab": {
          "base_uri": "https://localhost:8080/"
        },
        "outputId": "28b11664-b688-4175-8fe3-b90516ba482e"
      },
      "execution_count": 7,
      "outputs": [
        {
          "output_type": "stream",
          "name": "stdout",
          "text": [
            "Model: \"sequential\"\n",
            "_________________________________________________________________\n",
            " Layer (type)                Output Shape              Param #   \n",
            "=================================================================\n",
            " embedding (Embedding)       (None, None, 16)          80000     \n",
            "                                                                 \n",
            " lstm (LSTM)                 (None, 64)                20736     \n",
            "                                                                 \n",
            " dense (Dense)               (None, 128)               8320      \n",
            "                                                                 \n",
            " dense_1 (Dense)             (None, 64)                8256      \n",
            "                                                                 \n",
            " dense_2 (Dense)             (None, 2)                 130       \n",
            "                                                                 \n",
            "=================================================================\n",
            "Total params: 117,442\n",
            "Trainable params: 117,442\n",
            "Non-trainable params: 0\n",
            "_________________________________________________________________\n"
          ]
        }
      ]
    },
    {
      "cell_type": "code",
      "source": [
        "history = model.compile(optimizer='Adam',\n",
        "              loss='categorical_crossentropy',\n",
        "              metrics=['accuracy'])"
      ],
      "metadata": {
        "id": "iZZIAoV0nwOw"
      },
      "execution_count": 8,
      "outputs": []
    },
    {
      "cell_type": "code",
      "source": [
        "class myCallback(tf.keras.callbacks.Callback):\n",
        "  def on_epoch_end(self, epoch, logs={}):\n",
        "    if(logs.get('accuracy')>0.9):\n",
        "      print(\"\\n Accuracy telah mencapai >90%!\")\n",
        "      self.model.stop_training = True\n",
        "callbacks = myCallback()"
      ],
      "metadata": {
        "id": "YEdvqyCpnz8C"
      },
      "execution_count": 9,
      "outputs": []
    },
    {
      "cell_type": "code",
      "source": [
        "history = model.fit(padded_latih, label_latih, epochs=50, \n",
        "                   validation_data=(padded_test, label_test), verbose=2, callbacks=[callbacks])"
      ],
      "metadata": {
        "colab": {
          "base_uri": "https://localhost:8080/"
        },
        "id": "Q75XaSDprITQ",
        "outputId": "db05252f-a395-406e-d6cc-386924cdac96"
      },
      "execution_count": 10,
      "outputs": [
        {
          "output_type": "stream",
          "name": "stdout",
          "text": [
            "Epoch 1/50\n",
            "49/49 - 3s - loss: 0.6866 - accuracy: 0.5536 - val_loss: 0.6736 - val_accuracy: 0.5740 - 3s/epoch - 66ms/step\n",
            "Epoch 2/50\n",
            "49/49 - 0s - loss: 0.5822 - accuracy: 0.6754 - val_loss: 0.4312 - val_accuracy: 0.7985 - 480ms/epoch - 10ms/step\n",
            "Epoch 3/50\n",
            "49/49 - 0s - loss: 0.3128 - accuracy: 0.8520 - val_loss: 0.3577 - val_accuracy: 0.8240 - 432ms/epoch - 9ms/step\n",
            "Epoch 4/50\n",
            "49/49 - 0s - loss: 0.2294 - accuracy: 0.8788 - val_loss: 0.3609 - val_accuracy: 0.7526 - 399ms/epoch - 8ms/step\n",
            "Epoch 5/50\n",
            "49/49 - 0s - loss: 0.2063 - accuracy: 0.8750 - val_loss: 0.3582 - val_accuracy: 0.8214 - 455ms/epoch - 9ms/step\n",
            "Epoch 6/50\n",
            "49/49 - 0s - loss: 0.1947 - accuracy: 0.8846 - val_loss: 0.3619 - val_accuracy: 0.8291 - 452ms/epoch - 9ms/step\n",
            "Epoch 7/50\n",
            "49/49 - 0s - loss: 0.1927 - accuracy: 0.8744 - val_loss: 0.3889 - val_accuracy: 0.8163 - 490ms/epoch - 10ms/step\n",
            "Epoch 8/50\n",
            "49/49 - 0s - loss: 0.1980 - accuracy: 0.8839 - val_loss: 0.3749 - val_accuracy: 0.8189 - 454ms/epoch - 9ms/step\n",
            "Epoch 9/50\n",
            "49/49 - 0s - loss: 0.1890 - accuracy: 0.8788 - val_loss: 0.4076 - val_accuracy: 0.7474 - 413ms/epoch - 8ms/step\n",
            "Epoch 10/50\n",
            "49/49 - 1s - loss: 0.1861 - accuracy: 0.8769 - val_loss: 0.3892 - val_accuracy: 0.8265 - 533ms/epoch - 11ms/step\n",
            "Epoch 11/50\n",
            "49/49 - 0s - loss: 0.1882 - accuracy: 0.8737 - val_loss: 0.3917 - val_accuracy: 0.7628 - 451ms/epoch - 9ms/step\n",
            "Epoch 12/50\n",
            "49/49 - 1s - loss: 0.1891 - accuracy: 0.8788 - val_loss: 0.3880 - val_accuracy: 0.8163 - 555ms/epoch - 11ms/step\n",
            "Epoch 13/50\n",
            "49/49 - 0s - loss: 0.1838 - accuracy: 0.8878 - val_loss: 0.4112 - val_accuracy: 0.7423 - 486ms/epoch - 10ms/step\n",
            "Epoch 14/50\n",
            "49/49 - 0s - loss: 0.1807 - accuracy: 0.8878 - val_loss: 0.4152 - val_accuracy: 0.8163 - 428ms/epoch - 9ms/step\n",
            "Epoch 15/50\n",
            "49/49 - 0s - loss: 0.1894 - accuracy: 0.8750 - val_loss: 0.3984 - val_accuracy: 0.8240 - 460ms/epoch - 9ms/step\n",
            "Epoch 16/50\n",
            "49/49 - 0s - loss: 0.1811 - accuracy: 0.8846 - val_loss: 0.4060 - val_accuracy: 0.8010 - 429ms/epoch - 9ms/step\n",
            "Epoch 17/50\n",
            "49/49 - 0s - loss: 0.1833 - accuracy: 0.8795 - val_loss: 0.4078 - val_accuracy: 0.8189 - 457ms/epoch - 9ms/step\n",
            "Epoch 18/50\n",
            "49/49 - 0s - loss: 0.1816 - accuracy: 0.8833 - val_loss: 0.4053 - val_accuracy: 0.7449 - 478ms/epoch - 10ms/step\n",
            "Epoch 19/50\n",
            "49/49 - 0s - loss: 0.1807 - accuracy: 0.8782 - val_loss: 0.4210 - val_accuracy: 0.7449 - 422ms/epoch - 9ms/step\n",
            "Epoch 20/50\n",
            "49/49 - 0s - loss: 0.1834 - accuracy: 0.8648 - val_loss: 0.4228 - val_accuracy: 0.7474 - 396ms/epoch - 8ms/step\n",
            "Epoch 21/50\n",
            "49/49 - 0s - loss: 0.1758 - accuracy: 0.8890 - val_loss: 0.4281 - val_accuracy: 0.8214 - 489ms/epoch - 10ms/step\n",
            "Epoch 22/50\n",
            "49/49 - 0s - loss: 0.1744 - accuracy: 0.8820 - val_loss: 0.4463 - val_accuracy: 0.7449 - 439ms/epoch - 9ms/step\n",
            "Epoch 23/50\n",
            "49/49 - 0s - loss: 0.1736 - accuracy: 0.8788 - val_loss: 0.4494 - val_accuracy: 0.8036 - 439ms/epoch - 9ms/step\n",
            "Epoch 24/50\n",
            "49/49 - 0s - loss: 0.1769 - accuracy: 0.8820 - val_loss: 0.4344 - val_accuracy: 0.8240 - 401ms/epoch - 8ms/step\n",
            "Epoch 25/50\n",
            "49/49 - 1s - loss: 0.1734 - accuracy: 0.8878 - val_loss: 0.4524 - val_accuracy: 0.8240 - 520ms/epoch - 11ms/step\n",
            "Epoch 26/50\n",
            "49/49 - 0s - loss: 0.1725 - accuracy: 0.8801 - val_loss: 0.4739 - val_accuracy: 0.8189 - 395ms/epoch - 8ms/step\n",
            "Epoch 27/50\n",
            "49/49 - 0s - loss: 0.1732 - accuracy: 0.8846 - val_loss: 0.4665 - val_accuracy: 0.8214 - 434ms/epoch - 9ms/step\n",
            "Epoch 28/50\n",
            "49/49 - 0s - loss: 0.1699 - accuracy: 0.8871 - val_loss: 0.4993 - val_accuracy: 0.8163 - 485ms/epoch - 10ms/step\n",
            "Epoch 29/50\n",
            "49/49 - 1s - loss: 0.1714 - accuracy: 0.8769 - val_loss: 0.4943 - val_accuracy: 0.7449 - 510ms/epoch - 10ms/step\n",
            "Epoch 30/50\n",
            "49/49 - 0s - loss: 0.1717 - accuracy: 0.8756 - val_loss: 0.5113 - val_accuracy: 0.8163 - 482ms/epoch - 10ms/step\n",
            "Epoch 31/50\n",
            "49/49 - 0s - loss: 0.1723 - accuracy: 0.8858 - val_loss: 0.5029 - val_accuracy: 0.8138 - 398ms/epoch - 8ms/step\n",
            "Epoch 32/50\n",
            "49/49 - 0s - loss: 0.1687 - accuracy: 0.8814 - val_loss: 0.5213 - val_accuracy: 0.7526 - 406ms/epoch - 8ms/step\n",
            "Epoch 33/50\n",
            "49/49 - 0s - loss: 0.1724 - accuracy: 0.8769 - val_loss: 0.5213 - val_accuracy: 0.8189 - 395ms/epoch - 8ms/step\n",
            "Epoch 34/50\n",
            "49/49 - 0s - loss: 0.1697 - accuracy: 0.8852 - val_loss: 0.5097 - val_accuracy: 0.8163 - 465ms/epoch - 9ms/step\n",
            "Epoch 35/50\n",
            "49/49 - 0s - loss: 0.1689 - accuracy: 0.8852 - val_loss: 0.5460 - val_accuracy: 0.8214 - 388ms/epoch - 8ms/step\n",
            "Epoch 36/50\n",
            "49/49 - 1s - loss: 0.1673 - accuracy: 0.8941 - val_loss: 0.5259 - val_accuracy: 0.7474 - 552ms/epoch - 11ms/step\n",
            "Epoch 37/50\n",
            "49/49 - 1s - loss: 0.1693 - accuracy: 0.8827 - val_loss: 0.5264 - val_accuracy: 0.7500 - 590ms/epoch - 12ms/step\n",
            "Epoch 38/50\n",
            "49/49 - 1s - loss: 0.1684 - accuracy: 0.8693 - val_loss: 0.5532 - val_accuracy: 0.7704 - 564ms/epoch - 12ms/step\n",
            "Epoch 39/50\n",
            "49/49 - 0s - loss: 0.1694 - accuracy: 0.8820 - val_loss: 0.5496 - val_accuracy: 0.7500 - 363ms/epoch - 7ms/step\n",
            "Epoch 40/50\n",
            "49/49 - 0s - loss: 0.1693 - accuracy: 0.8846 - val_loss: 0.5296 - val_accuracy: 0.8240 - 243ms/epoch - 5ms/step\n",
            "Epoch 41/50\n",
            "49/49 - 0s - loss: 0.1698 - accuracy: 0.8814 - val_loss: 0.5811 - val_accuracy: 0.7474 - 284ms/epoch - 6ms/step\n",
            "Epoch 42/50\n",
            "49/49 - 0s - loss: 0.1707 - accuracy: 0.8763 - val_loss: 0.6053 - val_accuracy: 0.7704 - 274ms/epoch - 6ms/step\n",
            "Epoch 43/50\n",
            "49/49 - 0s - loss: 0.1682 - accuracy: 0.8814 - val_loss: 0.5942 - val_accuracy: 0.7526 - 232ms/epoch - 5ms/step\n",
            "Epoch 44/50\n",
            "49/49 - 0s - loss: 0.1667 - accuracy: 0.8897 - val_loss: 0.5863 - val_accuracy: 0.8138 - 237ms/epoch - 5ms/step\n",
            "Epoch 45/50\n",
            "49/49 - 0s - loss: 0.1693 - accuracy: 0.8795 - val_loss: 0.5871 - val_accuracy: 0.8163 - 256ms/epoch - 5ms/step\n",
            "Epoch 46/50\n",
            "49/49 - 0s - loss: 0.1679 - accuracy: 0.8890 - val_loss: 0.6474 - val_accuracy: 0.8036 - 248ms/epoch - 5ms/step\n",
            "Epoch 47/50\n",
            "49/49 - 0s - loss: 0.1697 - accuracy: 0.8878 - val_loss: 0.5721 - val_accuracy: 0.8036 - 276ms/epoch - 6ms/step\n",
            "Epoch 48/50\n",
            "49/49 - 0s - loss: 0.1666 - accuracy: 0.8884 - val_loss: 0.6245 - val_accuracy: 0.7500 - 282ms/epoch - 6ms/step\n",
            "Epoch 49/50\n",
            "49/49 - 0s - loss: 0.1670 - accuracy: 0.8916 - val_loss: 0.5805 - val_accuracy: 0.8214 - 282ms/epoch - 6ms/step\n",
            "Epoch 50/50\n",
            "49/49 - 0s - loss: 0.1675 - accuracy: 0.8878 - val_loss: 0.6228 - val_accuracy: 0.7500 - 289ms/epoch - 6ms/step\n"
          ]
        }
      ]
    },
    {
      "cell_type": "code",
      "source": [
        "import matplotlib.pyplot as plt\n",
        "\n",
        "plt.plot(history.history['accuracy'])\n",
        "plt.title('Accuracy dan Validation Model')\n",
        "plt.ylabel('Accuracy')\n",
        "plt.xlabel('Epoch')\n",
        "plt.legend(['Train'], loc='lower right')\n",
        "plt.show\n",
        "\n"
      ],
      "metadata": {
        "colab": {
          "base_uri": "https://localhost:8080/",
          "height": 312
        },
        "id": "29GbunREpkXl",
        "outputId": "81125a8b-09d2-4302-eb65-47f155eae08b"
      },
      "execution_count": 11,
      "outputs": [
        {
          "output_type": "execute_result",
          "data": {
            "text/plain": [
              "<function matplotlib.pyplot.show(*args, **kw)>"
            ]
          },
          "metadata": {},
          "execution_count": 11
        },
        {
          "output_type": "display_data",
          "data": {
            "text/plain": [
              "<Figure size 432x288 with 1 Axes>"
            ],
            "image/png": "[encoded data removed]"
          },
          "metadata": {
            "needs_background": "light"
          }
        }
      ]
    },
    {
      "cell_type": "code",
      "source": [
        "plt.plot(history.history['loss'])\n",
        "plt.title('Loss Model')\n",
        "plt.ylabel('Loss')\n",
        "plt.xlabel('Epoch')\n",
        "plt.legend(['Train'], loc='upper right')\n",
        "plt.show"
      ],
      "metadata": {
        "colab": {
          "base_uri": "https://localhost:8080/",
          "height": 312
        },
        "id": "FJOfEF6AqXgE",
        "outputId": "0151f2fe-ede0-4100-ea74-62e8183e2579"
      },
      "execution_count": 12,
      "outputs": [
        {
          "output_type": "execute_result",
          "data": {
            "text/plain": [
              "<function matplotlib.pyplot.show(*args, **kw)>"
            ]
          },
          "metadata": {},
          "execution_count": 12
        },
        {
          "output_type": "display_data",
          "data": {
            "text/plain": [
              "<Figure size 432x288 with 1 Axes>"
            ],
            "image/png": "[encoded data removed]"
          },
          "metadata": {
            "needs_background": "light"
          }
        }
      ]
    }
  ]
}